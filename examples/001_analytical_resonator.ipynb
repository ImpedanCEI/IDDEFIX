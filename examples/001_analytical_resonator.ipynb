{
 "cells": [
  {
   "cell_type": "markdown",
   "metadata": {},
   "source": [
    "## Import modules"
   ]
  },
  {
   "cell_type": "code",
   "execution_count": 6,
   "metadata": {},
   "outputs": [],
   "source": [
    "import sys\n",
    "sys.path.append('/home/malthera/Documents/IDDEFIX')\n",
    "\n",
    "import numpy as np\n",
    "import iddefix"
   ]
  },
  {
   "cell_type": "markdown",
   "metadata": {},
   "source": [
    "# Analytical example - Resonator fitting"
   ]
  },
  {
   "cell_type": "markdown",
   "metadata": {},
   "source": [
    "Modelling a three resonator impedance spectrum by three arbitrary resonators"
   ]
  },
  {
   "cell_type": "code",
   "execution_count": 8,
   "metadata": {},
   "outputs": [],
   "source": [
    "# Assigning the resonator parameters\n",
    "\n",
    "parameters ={   '1': [400, 30, 0.2e9],\n",
    "                '2': [1000, 10, 1e9],\n",
    "                '3': [500, 20, 1.75e9],}"
   ]
  }
 ],
 "metadata": {
  "kernelspec": {
   "display_name": "garfield-env",
   "language": "python",
   "name": "python3"
  },
  "language_info": {
   "codemirror_mode": {
    "name": "ipython",
    "version": 3
   },
   "file_extension": ".py",
   "mimetype": "text/x-python",
   "name": "python",
   "nbconvert_exporter": "python",
   "pygments_lexer": "ipython3",
   "version": "3.9.19"
  }
 },
 "nbformat": 4,
 "nbformat_minor": 2
}
